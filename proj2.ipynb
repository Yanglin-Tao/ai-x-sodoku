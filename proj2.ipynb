{
 "cells": [
  {
   "cell_type": "markdown",
   "metadata": {},
   "source": [
    "# Project 2: X Sudoku "
   ]
  },
  {
   "cell_type": "code",
   "execution_count": 7,
   "metadata": {},
   "outputs": [],
   "source": [
    "# Import necessary libaries\n",
    "import pandas as pd\n",
    "import altair as alt"
   ]
  },
  {
   "cell_type": "code",
   "execution_count": 8,
   "metadata": {},
   "outputs": [],
   "source": [
    "def read_input_file(file_path):\n",
    "    matrix = []\n",
    "    with open(file_path, 'r') as file:\n",
    "        for line in file:\n",
    "            row = list(map(int, line.split()))\n",
    "            matrix.append(row) \n",
    "    return matrix"
   ]
  },
  {
   "cell_type": "code",
   "execution_count": 9,
   "metadata": {},
   "outputs": [
    {
     "name": "stdout",
     "output_type": "stream",
     "text": [
      "[0, 0, 0, 0, 0, 0, 5, 0, 0]\n",
      "[4, 7, 0, 0, 0, 0, 0, 0, 3]\n",
      "[0, 0, 6, 0, 0, 3, 0, 2, 0]\n",
      "[0, 4, 0, 9, 0, 0, 0, 0, 0]\n",
      "[8, 0, 0, 0, 0, 6, 0, 0, 0]\n",
      "[0, 0, 0, 0, 0, 0, 0, 0, 9]\n",
      "[6, 0, 3, 2, 0, 0, 4, 0, 0]\n",
      "[0, 0, 0, 0, 8, 7, 0, 5, 0]\n",
      "[5, 0, 0, 3, 1, 0, 0, 0, 0]\n"
     ]
    }
   ],
   "source": [
    "file_path = 'Sample_Input.txt'  \n",
    "try:\n",
    "    sudoku_matrix = read_input_file(file_path)\n",
    "    for row in sudoku_matrix:\n",
    "        print(row)\n",
    "except Exception as e:\n",
    "    print(f\"Error: {e}\")"
   ]
  },
  {
   "cell_type": "code",
   "execution_count": 24,
   "metadata": {},
   "outputs": [
    {
     "data": {
      "text/html": [
       "\n",
       "<style>\n",
       "  #altair-viz-57bc51219f8143e9ae26c5d1addf698e.vega-embed {\n",
       "    width: 100%;\n",
       "    display: flex;\n",
       "  }\n",
       "\n",
       "  #altair-viz-57bc51219f8143e9ae26c5d1addf698e.vega-embed details,\n",
       "  #altair-viz-57bc51219f8143e9ae26c5d1addf698e.vega-embed details summary {\n",
       "    position: relative;\n",
       "  }\n",
       "</style>\n",
       "<div id=\"altair-viz-57bc51219f8143e9ae26c5d1addf698e\"></div>\n",
       "<script type=\"text/javascript\">\n",
       "  var VEGA_DEBUG = (typeof VEGA_DEBUG == \"undefined\") ? {} : VEGA_DEBUG;\n",
       "  (function(spec, embedOpt){\n",
       "    let outputDiv = document.currentScript.previousElementSibling;\n",
       "    if (outputDiv.id !== \"altair-viz-57bc51219f8143e9ae26c5d1addf698e\") {\n",
       "      outputDiv = document.getElementById(\"altair-viz-57bc51219f8143e9ae26c5d1addf698e\");\n",
       "    }\n",
       "    const paths = {\n",
       "      \"vega\": \"https://cdn.jsdelivr.net/npm/vega@5?noext\",\n",
       "      \"vega-lib\": \"https://cdn.jsdelivr.net/npm/vega-lib?noext\",\n",
       "      \"vega-lite\": \"https://cdn.jsdelivr.net/npm/vega-lite@5.16.3?noext\",\n",
       "      \"vega-embed\": \"https://cdn.jsdelivr.net/npm/vega-embed@6?noext\",\n",
       "    };\n",
       "\n",
       "    function maybeLoadScript(lib, version) {\n",
       "      var key = `${lib.replace(\"-\", \"\")}_version`;\n",
       "      return (VEGA_DEBUG[key] == version) ?\n",
       "        Promise.resolve(paths[lib]) :\n",
       "        new Promise(function(resolve, reject) {\n",
       "          var s = document.createElement('script');\n",
       "          document.getElementsByTagName(\"head\")[0].appendChild(s);\n",
       "          s.async = true;\n",
       "          s.onload = () => {\n",
       "            VEGA_DEBUG[key] = version;\n",
       "            return resolve(paths[lib]);\n",
       "          };\n",
       "          s.onerror = () => reject(`Error loading script: ${paths[lib]}`);\n",
       "          s.src = paths[lib];\n",
       "        });\n",
       "    }\n",
       "\n",
       "    function showError(err) {\n",
       "      outputDiv.innerHTML = `<div class=\"error\" style=\"color:red;\">${err}</div>`;\n",
       "      throw err;\n",
       "    }\n",
       "\n",
       "    function displayChart(vegaEmbed) {\n",
       "      vegaEmbed(outputDiv, spec, embedOpt)\n",
       "        .catch(err => showError(`Javascript Error: ${err.message}<br>This usually means there's a typo in your chart specification. See the javascript console for the full traceback.`));\n",
       "    }\n",
       "\n",
       "    if(typeof define === \"function\" && define.amd) {\n",
       "      requirejs.config({paths});\n",
       "      require([\"vega-embed\"], displayChart, err => showError(`Error loading script: ${err.message}`));\n",
       "    } else {\n",
       "      maybeLoadScript(\"vega\", \"5\")\n",
       "        .then(() => maybeLoadScript(\"vega-lite\", \"5.16.3\"))\n",
       "        .then(() => maybeLoadScript(\"vega-embed\", \"6\"))\n",
       "        .catch(showError)\n",
       "        .then(() => displayChart(vegaEmbed));\n",
       "    }\n",
       "  })({\"config\": {\"view\": {\"continuousWidth\": 300, \"continuousHeight\": 300}}, \"layer\": [{\"data\": {\"name\": \"data-245cab04f049be6170a69fda7451f9f8\"}, \"mark\": {\"type\": \"text\", \"size\": 20}, \"encoding\": {\"color\": {\"condition\": {\"test\": \"(datum.value === 0)\", \"value\": \"lightgray\"}, \"value\": \"black\"}, \"text\": {\"field\": \"value\", \"type\": \"nominal\"}, \"x\": {\"axis\": {\"title\": null}, \"field\": \"col\", \"type\": \"ordinal\"}, \"y\": {\"axis\": {\"title\": null}, \"field\": \"row\", \"type\": \"ordinal\"}}}, {\"data\": {\"name\": \"data-db4d08b843c44c9717cdb1368a6d1061\"}, \"mark\": {\"type\": \"rule\", \"color\": \"black\", \"strokeWidth\": 2}, \"encoding\": {\"x\": {\"field\": \"position\", \"type\": \"ordinal\"}, \"y\": {\"field\": \"position\", \"type\": \"ordinal\"}}}], \"height\": 300, \"width\": 300, \"$schema\": \"https://vega.github.io/schema/vega-lite/v5.16.3.json\", \"datasets\": {\"data-245cab04f049be6170a69fda7451f9f8\": [{\"row\": 1, \"col\": 1, \"value\": 0}, {\"row\": 1, \"col\": 2, \"value\": 0}, {\"row\": 1, \"col\": 3, \"value\": 0}, {\"row\": 1, \"col\": 4, \"value\": 0}, {\"row\": 1, \"col\": 5, \"value\": 0}, {\"row\": 1, \"col\": 6, \"value\": 0}, {\"row\": 1, \"col\": 7, \"value\": 5}, {\"row\": 1, \"col\": 8, \"value\": 0}, {\"row\": 1, \"col\": 9, \"value\": 0}, {\"row\": 2, \"col\": 1, \"value\": 4}, {\"row\": 2, \"col\": 2, \"value\": 7}, {\"row\": 2, \"col\": 3, \"value\": 0}, {\"row\": 2, \"col\": 4, \"value\": 0}, {\"row\": 2, \"col\": 5, \"value\": 0}, {\"row\": 2, \"col\": 6, \"value\": 0}, {\"row\": 2, \"col\": 7, \"value\": 0}, {\"row\": 2, \"col\": 8, \"value\": 0}, {\"row\": 2, \"col\": 9, \"value\": 3}, {\"row\": 3, \"col\": 1, \"value\": 0}, {\"row\": 3, \"col\": 2, \"value\": 0}, {\"row\": 3, \"col\": 3, \"value\": 6}, {\"row\": 3, \"col\": 4, \"value\": 0}, {\"row\": 3, \"col\": 5, \"value\": 0}, {\"row\": 3, \"col\": 6, \"value\": 3}, {\"row\": 3, \"col\": 7, \"value\": 0}, {\"row\": 3, \"col\": 8, \"value\": 2}, {\"row\": 3, \"col\": 9, \"value\": 0}, {\"row\": 4, \"col\": 1, \"value\": 0}, {\"row\": 4, \"col\": 2, \"value\": 4}, {\"row\": 4, \"col\": 3, \"value\": 0}, {\"row\": 4, \"col\": 4, \"value\": 9}, {\"row\": 4, \"col\": 5, \"value\": 0}, {\"row\": 4, \"col\": 6, \"value\": 0}, {\"row\": 4, \"col\": 7, \"value\": 0}, {\"row\": 4, \"col\": 8, \"value\": 0}, {\"row\": 4, \"col\": 9, \"value\": 0}, {\"row\": 5, \"col\": 1, \"value\": 8}, {\"row\": 5, \"col\": 2, \"value\": 0}, {\"row\": 5, \"col\": 3, \"value\": 0}, {\"row\": 5, \"col\": 4, \"value\": 0}, {\"row\": 5, \"col\": 5, \"value\": 0}, {\"row\": 5, \"col\": 6, \"value\": 6}, {\"row\": 5, \"col\": 7, \"value\": 0}, {\"row\": 5, \"col\": 8, \"value\": 0}, {\"row\": 5, \"col\": 9, \"value\": 0}, {\"row\": 6, \"col\": 1, \"value\": 0}, {\"row\": 6, \"col\": 2, \"value\": 0}, {\"row\": 6, \"col\": 3, \"value\": 0}, {\"row\": 6, \"col\": 4, \"value\": 0}, {\"row\": 6, \"col\": 5, \"value\": 0}, {\"row\": 6, \"col\": 6, \"value\": 0}, {\"row\": 6, \"col\": 7, \"value\": 0}, {\"row\": 6, \"col\": 8, \"value\": 0}, {\"row\": 6, \"col\": 9, \"value\": 9}, {\"row\": 7, \"col\": 1, \"value\": 6}, {\"row\": 7, \"col\": 2, \"value\": 0}, {\"row\": 7, \"col\": 3, \"value\": 3}, {\"row\": 7, \"col\": 4, \"value\": 2}, {\"row\": 7, \"col\": 5, \"value\": 0}, {\"row\": 7, \"col\": 6, \"value\": 0}, {\"row\": 7, \"col\": 7, \"value\": 4}, {\"row\": 7, \"col\": 8, \"value\": 0}, {\"row\": 7, \"col\": 9, \"value\": 0}, {\"row\": 8, \"col\": 1, \"value\": 0}, {\"row\": 8, \"col\": 2, \"value\": 0}, {\"row\": 8, \"col\": 3, \"value\": 0}, {\"row\": 8, \"col\": 4, \"value\": 0}, {\"row\": 8, \"col\": 5, \"value\": 8}, {\"row\": 8, \"col\": 6, \"value\": 7}, {\"row\": 8, \"col\": 7, \"value\": 0}, {\"row\": 8, \"col\": 8, \"value\": 5}, {\"row\": 8, \"col\": 9, \"value\": 0}, {\"row\": 9, \"col\": 1, \"value\": 5}, {\"row\": 9, \"col\": 2, \"value\": 0}, {\"row\": 9, \"col\": 3, \"value\": 0}, {\"row\": 9, \"col\": 4, \"value\": 3}, {\"row\": 9, \"col\": 5, \"value\": 1}, {\"row\": 9, \"col\": 6, \"value\": 0}, {\"row\": 9, \"col\": 7, \"value\": 0}, {\"row\": 9, \"col\": 8, \"value\": 0}, {\"row\": 9, \"col\": 9, \"value\": 0}], \"data-db4d08b843c44c9717cdb1368a6d1061\": [{\"position\": 3.5}, {\"position\": 6.5}]}}, {\"mode\": \"vega-lite\"});\n",
       "</script>"
      ],
      "text/plain": [
       "alt.LayerChart(...)"
      ]
     },
     "execution_count": 24,
     "metadata": {},
     "output_type": "execute_result"
    }
   ],
   "source": [
    "# Create visualization of the sodoku matrix\n",
    "def matrix_to_dataframe(matrix):\n",
    "    data = {\n",
    "        'row': [],\n",
    "        'col': [],\n",
    "        'value': []\n",
    "    }\n",
    "    for i, row in enumerate(matrix):\n",
    "        for j, value in enumerate(row):\n",
    "            data['row'].append(i + 1)\n",
    "            data['col'].append(j + 1)\n",
    "            data['value'].append(value)\n",
    "    return pd.DataFrame(data)\n",
    "\n",
    "df = matrix_to_dataframe(sudoku_matrix)\n",
    "\n",
    "chart = alt.Chart(df).mark_text(size=20).encode(\n",
    "    x=alt.X('col:O', axis=alt.Axis(title=None)),\n",
    "    y=alt.Y('row:O', axis=alt.Axis(title=None)),\n",
    "    text='value:N',\n",
    "    color=alt.condition(\n",
    "        alt.datum.value == 0, \n",
    "        alt.value('lightgray'),  \n",
    "        alt.value('black')      \n",
    "    )\n",
    ").properties(\n",
    "    width=300,\n",
    "    height=300\n",
    ")\n",
    "\n",
    "rules = alt.Chart(pd.DataFrame({'position': [3.5, 6.5]})).mark_rule(color='black', strokeWidth=2).encode(\n",
    "    x='position:O', \n",
    "    y='position:O' \n",
    ")\n",
    "\n",
    "chart = chart + rules\n",
    "chart"
   ]
  }
 ],
 "metadata": {
  "kernelspec": {
   "display_name": "data_visualization",
   "language": "python",
   "name": "python3"
  },
  "language_info": {
   "codemirror_mode": {
    "name": "ipython",
    "version": 3
   },
   "file_extension": ".py",
   "mimetype": "text/x-python",
   "name": "python",
   "nbconvert_exporter": "python",
   "pygments_lexer": "ipython3",
   "version": "3.11.8"
  }
 },
 "nbformat": 4,
 "nbformat_minor": 2
}
